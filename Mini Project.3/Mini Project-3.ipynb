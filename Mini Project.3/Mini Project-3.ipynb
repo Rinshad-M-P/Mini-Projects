{
 "cells": [
  {
   "cell_type": "markdown",
   "id": "c2af03d0",
   "metadata": {},
   "source": [
    "Using the below dataset of FIFA players. Perform Exploratory data analysis and find the following insights:\n",
    "1. Which country has the most number of players?\n",
    "2. Plot a bar chart of 5 top countries with the greatest number of players.\n",
    "3. Which player has the highest salary? \n",
    "4. Plot a histogram to get the salary range of the players. \n",
    "5. Who is the tallest player in FIFA? \n",
    "6. Which club has the most number of players? \n",
    "7. Which foot is most preferred by the players? Draw a bar chart for the preferred foot.\n",
    "\n",
    "\n",
    "Dataset : \n",
    "https://drive.google.com/file/d/10oyIT1KPdwUqeU9-2LX0xE5-ZytNn9su/view?usp=share_link"
   ]
  },
  {
   "cell_type": "code",
   "execution_count": 1,
   "id": "17d30dd0",
   "metadata": {},
   "outputs": [],
   "source": [
    "import pandas as pd\n",
    "import matplotlib.pyplot as plt"
   ]
  },
  {
   "cell_type": "code",
   "execution_count": 2,
   "id": "cc5592b6",
   "metadata": {},
   "outputs": [
    {
     "data": {
      "text/html": [
       "<div>\n",
       "<style scoped>\n",
       "    .dataframe tbody tr th:only-of-type {\n",
       "        vertical-align: middle;\n",
       "    }\n",
       "\n",
       "    .dataframe tbody tr th {\n",
       "        vertical-align: top;\n",
       "    }\n",
       "\n",
       "    .dataframe thead th {\n",
       "        text-align: right;\n",
       "    }\n",
       "</style>\n",
       "<table border=\"1\" class=\"dataframe\">\n",
       "  <thead>\n",
       "    <tr style=\"text-align: right;\">\n",
       "      <th></th>\n",
       "      <th>Name</th>\n",
       "      <th>Nationality</th>\n",
       "      <th>Height</th>\n",
       "      <th>Preferred Foot</th>\n",
       "      <th>Wage</th>\n",
       "      <th>Club</th>\n",
       "    </tr>\n",
       "  </thead>\n",
       "  <tbody>\n",
       "    <tr>\n",
       "      <th>0</th>\n",
       "      <td>L. Messi</td>\n",
       "      <td>Argentina</td>\n",
       "      <td>5'7</td>\n",
       "      <td>Left</td>\n",
       "      <td>€565K</td>\n",
       "      <td>FC Barcelona</td>\n",
       "    </tr>\n",
       "    <tr>\n",
       "      <th>1</th>\n",
       "      <td>Cristiano Ronaldo</td>\n",
       "      <td>Portugal</td>\n",
       "      <td>6'2</td>\n",
       "      <td>Right</td>\n",
       "      <td>€405K</td>\n",
       "      <td>Juventus</td>\n",
       "    </tr>\n",
       "    <tr>\n",
       "      <th>2</th>\n",
       "      <td>Neymar Jr</td>\n",
       "      <td>Brazil</td>\n",
       "      <td>5'9</td>\n",
       "      <td>Right</td>\n",
       "      <td>€290K</td>\n",
       "      <td>Paris Saint-Germain</td>\n",
       "    </tr>\n",
       "    <tr>\n",
       "      <th>3</th>\n",
       "      <td>De Gea</td>\n",
       "      <td>Spain</td>\n",
       "      <td>6'4</td>\n",
       "      <td>Right</td>\n",
       "      <td>€260K</td>\n",
       "      <td>Manchester United</td>\n",
       "    </tr>\n",
       "    <tr>\n",
       "      <th>4</th>\n",
       "      <td>K. De Bruyne</td>\n",
       "      <td>Belgium</td>\n",
       "      <td>5'11</td>\n",
       "      <td>Right</td>\n",
       "      <td>€355K</td>\n",
       "      <td>Manchester City</td>\n",
       "    </tr>\n",
       "    <tr>\n",
       "      <th>...</th>\n",
       "      <td>...</td>\n",
       "      <td>...</td>\n",
       "      <td>...</td>\n",
       "      <td>...</td>\n",
       "      <td>...</td>\n",
       "      <td>...</td>\n",
       "    </tr>\n",
       "    <tr>\n",
       "      <th>18202</th>\n",
       "      <td>J. Lundstram</td>\n",
       "      <td>England</td>\n",
       "      <td>5'9</td>\n",
       "      <td>Right</td>\n",
       "      <td>€1K</td>\n",
       "      <td>Crewe Alexandra</td>\n",
       "    </tr>\n",
       "    <tr>\n",
       "      <th>18203</th>\n",
       "      <td>N. Christoffersson</td>\n",
       "      <td>Sweden</td>\n",
       "      <td>6'3</td>\n",
       "      <td>Right</td>\n",
       "      <td>€1K</td>\n",
       "      <td>Trelleborgs FF</td>\n",
       "    </tr>\n",
       "    <tr>\n",
       "      <th>18204</th>\n",
       "      <td>B. Worman</td>\n",
       "      <td>England</td>\n",
       "      <td>5'8</td>\n",
       "      <td>Right</td>\n",
       "      <td>€1K</td>\n",
       "      <td>Cambridge United</td>\n",
       "    </tr>\n",
       "    <tr>\n",
       "      <th>18205</th>\n",
       "      <td>D. Walker-Rice</td>\n",
       "      <td>England</td>\n",
       "      <td>5'10</td>\n",
       "      <td>Right</td>\n",
       "      <td>€1K</td>\n",
       "      <td>Tranmere Rovers</td>\n",
       "    </tr>\n",
       "    <tr>\n",
       "      <th>18206</th>\n",
       "      <td>G. Nugent</td>\n",
       "      <td>England</td>\n",
       "      <td>5'10</td>\n",
       "      <td>Right</td>\n",
       "      <td>€1K</td>\n",
       "      <td>Tranmere Rovers</td>\n",
       "    </tr>\n",
       "  </tbody>\n",
       "</table>\n",
       "<p>18207 rows × 6 columns</p>\n",
       "</div>"
      ],
      "text/plain": [
       "                     Name Nationality Height Preferred Foot   Wage  \\\n",
       "0                L. Messi   Argentina    5'7           Left  €565K   \n",
       "1       Cristiano Ronaldo    Portugal    6'2          Right  €405K   \n",
       "2               Neymar Jr      Brazil    5'9          Right  €290K   \n",
       "3                  De Gea       Spain    6'4          Right  €260K   \n",
       "4            K. De Bruyne     Belgium   5'11          Right  €355K   \n",
       "...                   ...         ...    ...            ...    ...   \n",
       "18202        J. Lundstram     England    5'9          Right    €1K   \n",
       "18203  N. Christoffersson      Sweden    6'3          Right    €1K   \n",
       "18204           B. Worman     England    5'8          Right    €1K   \n",
       "18205      D. Walker-Rice     England   5'10          Right    €1K   \n",
       "18206           G. Nugent     England   5'10          Right    €1K   \n",
       "\n",
       "                      Club  \n",
       "0             FC Barcelona  \n",
       "1                 Juventus  \n",
       "2      Paris Saint-Germain  \n",
       "3        Manchester United  \n",
       "4          Manchester City  \n",
       "...                    ...  \n",
       "18202      Crewe Alexandra  \n",
       "18203       Trelleborgs FF  \n",
       "18204     Cambridge United  \n",
       "18205      Tranmere Rovers  \n",
       "18206      Tranmere Rovers  \n",
       "\n",
       "[18207 rows x 6 columns]"
      ]
     },
     "execution_count": 2,
     "metadata": {},
     "output_type": "execute_result"
    }
   ],
   "source": [
    "data = pd.read_csv(\"fifa_data.csv\")\n",
    "\n",
    "#sort - required columns for above quastions.\n",
    "fifa = data[[\"Name\", \"Nationality\", \"Height\", \"Preferred Foot\", \"Wage\", \"Club\"]]\n",
    "fifa"
   ]
  },
  {
   "cell_type": "code",
   "execution_count": 3,
   "id": "0ddcaa72",
   "metadata": {},
   "outputs": [
    {
     "name": "stdout",
     "output_type": "stream",
     "text": [
      "Country with the most players: England (1662 players)\n"
     ]
    }
   ],
   "source": [
    "# 1. Which country has the most number of players\n",
    "\n",
    "most_players_country = fifa['Nationality'].value_counts().head(1)\n",
    "\n",
    "print(f\"Country with the most players: {most_players_country.index[0]} ({most_players_country.values[0]} players)\")"
   ]
  },
  {
   "cell_type": "code",
   "execution_count": 4,
   "id": "e2fdc940",
   "metadata": {
    "scrolled": false
   },
   "outputs": [
    {
     "data": {
      "image/png": "[encoded data removed]",
      "text/plain": [
       "<Figure size 640x480 with 1 Axes>"
      ]
     },
     "metadata": {},
     "output_type": "display_data"
    }
   ],
   "source": [
    "# 2. Plot a bar chart of 5 top countries with the most number of players.\n",
    "\n",
    "top_5_countries = fifa['Nationality'].value_counts().head(5)\n",
    "\n",
    "top_5_countries.plot(kind='bar', color='skyblue')\n",
    "plt.title('Top 5 Countries with Most Players')\n",
    "plt.xlabel('Country')\n",
    "plt.ylabel('Player Count')\n",
    "plt.xticks(rotation=0)\n",
    "plt.grid(axis = 'y')\n",
    "plt.show()"
   ]
  },
  {
   "cell_type": "code",
   "execution_count": 5,
   "id": "7da7aa77",
   "metadata": {},
   "outputs": [
    {
     "name": "stdout",
     "output_type": "stream",
     "text": [
      "Player with Highest Salary: L. Messi (€565K)\n"
     ]
    }
   ],
   "source": [
    "# 3.Which player has the highest salary?\n",
    "\n",
    "wages = pd.DataFrame(fifa['Wage'].str.strip(\"€K\").astype(int))\n",
    "wages[\"Name\"] = fifa[\"Name\"]\n",
    "\n",
    "highest_salary = wages.loc[wages[\"Wage\"].idxmax(), \"Name\"]\n",
    "\n",
    "print(f\"Player with Highest Salary: {highest_salary} (€{wages['Wage'].max()}K)\" )"
   ]
  },
  {
   "cell_type": "code",
   "execution_count": 6,
   "id": "6695b3b1",
   "metadata": {
    "scrolled": false
   },
   "outputs": [
    {
     "data": {
      "image/png": "[encoded data removed]",
      "text/plain": [
       "<Figure size 640x480 with 1 Axes>"
      ]
     },
     "metadata": {},
     "output_type": "display_data"
    }
   ],
   "source": [
    "# 4.Plot a histogram to get the salary range of the players.\n",
    "\n",
    "plt.hist(wages[\"Wage\"], bins=[100, 200, 300, 400, 500], edgecolor='black')\n",
    "plt.show()"
   ]
  },
  {
   "cell_type": "code",
   "execution_count": 7,
   "id": "319051c5",
   "metadata": {
    "scrolled": false
   },
   "outputs": [
    {
     "name": "stdout",
     "output_type": "stream",
     "text": [
      "The tallest player is T. Holý (6 ft 9 in).\n"
     ]
    }
   ],
   "source": [
    "# 5.Who is the tallest player in the fifa?\n",
    "\n",
    "heights = pd.DataFrame(fifa['Height'].str.replace(\"'\", '.').astype(float))\n",
    "heights[\"Name\"] = fifa[\"Name\"]\n",
    "\n",
    "tallest_player = heights.loc[heights[\"Height\"].idxmax(), \"Name\"]\n",
    "\n",
    "print(f\"The tallest player is {tallest_player} ({str(heights['Height'].max()).replace('.', ' ft ')} in).\")"
   ]
  },
  {
   "cell_type": "code",
   "execution_count": 8,
   "id": "b7a7ca48",
   "metadata": {
    "scrolled": true
   },
   "outputs": [
    {
     "name": "stdout",
     "output_type": "stream",
     "text": [
      "Club with Most Players: FC Barcelona (33 Players)\n"
     ]
    }
   ],
   "source": [
    "# 6.Which club has the most number of players?\n",
    "\n",
    "club_counts = fifa['Club'].value_counts().head(1)\n",
    "\n",
    "print(f\"Club with Most Players: {club_counts.index[0]} ({club_counts.values[0]} Players)\")"
   ]
  },
  {
   "cell_type": "code",
   "execution_count": 9,
   "id": "f730dcd5",
   "metadata": {},
   "outputs": [
    {
     "data": {
      "image/png": "[encoded data removed]",
      "text/plain": [
       "<Figure size 640x480 with 1 Axes>"
      ]
     },
     "metadata": {},
     "output_type": "display_data"
    }
   ],
   "source": [
    "# 7.Which foot is most preferred by the players?Draw a bar chart for preferred foot \n",
    "\n",
    "foot_counts = fifa['Preferred Foot'].value_counts()\n",
    "\n",
    "foot_counts.plot(kind='bar', color=['yellow', 'skyblue'], edgecolor='black') \n",
    "plt.xlabel('Preferred Foot')\n",
    "plt.ylabel('Number of Players')\n",
    "plt.title('Preferred Foot Distribution in FIFA Players')\n",
    "plt.xticks(rotation=0)\n",
    "plt.grid(axis = 'y')\n",
    "plt.show()"
   ]
  }
 ],
 "metadata": {
  "kernelspec": {
   "display_name": "Python 3 (ipykernel)",
   "language": "python",
   "name": "python3"
  },
  "language_info": {
   "codemirror_mode": {
    "name": "ipython",
    "version": 3
   },
   "file_extension": ".py",
   "mimetype": "text/x-python",
   "name": "python",
   "nbconvert_exporter": "python",
   "pygments_lexer": "ipython3",
   "version": "3.11.5"
  }
 },
 "nbformat": 4,
 "nbformat_minor": 5
}
